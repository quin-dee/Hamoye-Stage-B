{
 "cells": [
  {
   "cell_type": "code",
   "execution_count": 1,
   "id": "b0dafc85",
   "metadata": {},
   "outputs": [],
   "source": [
    "import pandas as pd\n",
    "import numpy as np\n",
    "\n",
    "from sklearn.model_selection import train_test_split\n",
    "from sklearn.linear_model import LinearRegression\n",
    "from sklearn.preprocessing import MinMaxScaler\n",
    "from sklearn.metrics import mean_absolute_error\n",
    "from sklearn.metrics import mean_squared_error"
   ]
  },
  {
   "cell_type": "code",
   "execution_count": 2,
   "id": "b2799297",
   "metadata": {},
   "outputs": [
    {
     "data": {
      "text/html": [
       "<div>\n",
       "<style scoped>\n",
       "    .dataframe tbody tr th:only-of-type {\n",
       "        vertical-align: middle;\n",
       "    }\n",
       "\n",
       "    .dataframe tbody tr th {\n",
       "        vertical-align: top;\n",
       "    }\n",
       "\n",
       "    .dataframe thead th {\n",
       "        text-align: right;\n",
       "    }\n",
       "</style>\n",
       "<table border=\"1\" class=\"dataframe\">\n",
       "  <thead>\n",
       "    <tr style=\"text-align: right;\">\n",
       "      <th></th>\n",
       "      <th>date</th>\n",
       "      <th>Appliances</th>\n",
       "      <th>lights</th>\n",
       "      <th>T1</th>\n",
       "      <th>RH_1</th>\n",
       "      <th>T2</th>\n",
       "      <th>RH_2</th>\n",
       "      <th>T3</th>\n",
       "      <th>RH_3</th>\n",
       "      <th>T4</th>\n",
       "      <th>...</th>\n",
       "      <th>T9</th>\n",
       "      <th>RH_9</th>\n",
       "      <th>T_out</th>\n",
       "      <th>Press_mm_hg</th>\n",
       "      <th>RH_out</th>\n",
       "      <th>Windspeed</th>\n",
       "      <th>Visibility</th>\n",
       "      <th>Tdewpoint</th>\n",
       "      <th>rv1</th>\n",
       "      <th>rv2</th>\n",
       "    </tr>\n",
       "  </thead>\n",
       "  <tbody>\n",
       "    <tr>\n",
       "      <th>0</th>\n",
       "      <td>2016-01-11 17:00:00</td>\n",
       "      <td>60</td>\n",
       "      <td>30</td>\n",
       "      <td>19.89</td>\n",
       "      <td>47.596667</td>\n",
       "      <td>19.2</td>\n",
       "      <td>44.7900</td>\n",
       "      <td>19.79</td>\n",
       "      <td>44.73</td>\n",
       "      <td>19.0</td>\n",
       "      <td>...</td>\n",
       "      <td>17.033333</td>\n",
       "      <td>45.53</td>\n",
       "      <td>6.600000</td>\n",
       "      <td>733.5</td>\n",
       "      <td>92.0</td>\n",
       "      <td>7.000000</td>\n",
       "      <td>63.000000</td>\n",
       "      <td>5.3</td>\n",
       "      <td>13.275433</td>\n",
       "      <td>13.275433</td>\n",
       "    </tr>\n",
       "    <tr>\n",
       "      <th>1</th>\n",
       "      <td>2016-01-11 17:10:00</td>\n",
       "      <td>60</td>\n",
       "      <td>30</td>\n",
       "      <td>19.89</td>\n",
       "      <td>46.693333</td>\n",
       "      <td>19.2</td>\n",
       "      <td>44.7225</td>\n",
       "      <td>19.79</td>\n",
       "      <td>44.79</td>\n",
       "      <td>19.0</td>\n",
       "      <td>...</td>\n",
       "      <td>17.066667</td>\n",
       "      <td>45.56</td>\n",
       "      <td>6.483333</td>\n",
       "      <td>733.6</td>\n",
       "      <td>92.0</td>\n",
       "      <td>6.666667</td>\n",
       "      <td>59.166667</td>\n",
       "      <td>5.2</td>\n",
       "      <td>18.606195</td>\n",
       "      <td>18.606195</td>\n",
       "    </tr>\n",
       "  </tbody>\n",
       "</table>\n",
       "<p>2 rows × 29 columns</p>\n",
       "</div>"
      ],
      "text/plain": [
       "                  date  Appliances  lights     T1       RH_1    T2     RH_2  \\\n",
       "0  2016-01-11 17:00:00          60      30  19.89  47.596667  19.2  44.7900   \n",
       "1  2016-01-11 17:10:00          60      30  19.89  46.693333  19.2  44.7225   \n",
       "\n",
       "      T3   RH_3    T4  ...         T9   RH_9     T_out  Press_mm_hg  RH_out  \\\n",
       "0  19.79  44.73  19.0  ...  17.033333  45.53  6.600000        733.5    92.0   \n",
       "1  19.79  44.79  19.0  ...  17.066667  45.56  6.483333        733.6    92.0   \n",
       "\n",
       "   Windspeed  Visibility  Tdewpoint        rv1        rv2  \n",
       "0   7.000000   63.000000        5.3  13.275433  13.275433  \n",
       "1   6.666667   59.166667        5.2  18.606195  18.606195  \n",
       "\n",
       "[2 rows x 29 columns]"
      ]
     },
     "execution_count": 2,
     "metadata": {},
     "output_type": "execute_result"
    }
   ],
   "source": [
    "df = pd.read_csv('energydata_complete.csv')\n",
    "df.head(2)"
   ]
  },
  {
   "cell_type": "markdown",
   "id": "8fc2c266",
   "metadata": {},
   "source": [
    "QUESTION 17"
   ]
  },
  {
   "cell_type": "code",
   "execution_count": 3,
   "id": "af117d3d",
   "metadata": {},
   "outputs": [
    {
     "name": "stdout",
     "output_type": "stream",
     "text": [
      "Root Mean Squared Error: 3.633\n"
     ]
    }
   ],
   "source": [
    "# Selecting the T2 and T6 columns\n",
    "X = df[['T2']]\n",
    "y = df['T6']\n",
    "\n",
    "# Splitting the dataset\n",
    "X_train, X_test, y_train, y_test = train_test_split(X, y, test_size=0.2, random_state=42)\n",
    "\n",
    "# Fitting the linear regression model\n",
    "model = LinearRegression()\n",
    "model.fit(X_train, y_train)\n",
    "\n",
    "# Predicting T6 values using T2 values from the testing set\n",
    "y_pred = model.predict(X_test)\n",
    "\n",
    "# Calculating RMSE\n",
    "rmse = np.sqrt(mean_squared_error(y_test, y_pred))\n",
    "\n",
    "# Printing RMSE with three decimal places\n",
    "print(\"Root Mean Squared Error:\", \"{:.3f}\".format(rmse))"
   ]
  },
  {
   "cell_type": "markdown",
   "id": "6cd0b3a5",
   "metadata": {},
   "source": [
    "QUESTION 18"
   ]
  },
  {
   "cell_type": "code",
   "execution_count": 4,
   "id": "5393bf95",
   "metadata": {},
   "outputs": [
    {
     "name": "stdout",
     "output_type": "stream",
     "text": [
      "Mean Absolute Error (MAE) for the training set: 53.742\n"
     ]
    }
   ],
   "source": [
    "# Remove columns date and lights\n",
    "df = df.drop(columns=['date', 'lights'])\n",
    "\n",
    "X = df.drop(columns=['Appliances'])\n",
    "y = df['Appliances']\n",
    "\n",
    "# Split the dataset\n",
    "X_train, X_test, y_train, y_test = train_test_split(X, y, test_size=0.3, random_state=42)\n",
    "\n",
    "# Normalize the dataset using MinMaxScaler\n",
    "scaler = MinMaxScaler()\n",
    "X_train_scaled = scaler.fit_transform(X_train)\n",
    "X_test_scaled = scaler.transform(X_test)\n",
    "\n",
    "# Run multiple linear regression using the training set\n",
    "model = LinearRegression()\n",
    "model.fit(X_train_scaled, y_train)\n",
    "\n",
    "# Predict on the training set\n",
    "y_train_pred = model.predict(X_train_scaled)\n",
    "\n",
    "# Calculate Mean Absolute Error (MAE) for the training set\n",
    "mae_train = mean_absolute_error(y_train, y_train_pred)\n",
    "\n",
    "print(\"Mean Absolute Error (MAE) for the training set: {:.3f}\".format(mae_train))"
   ]
  },
  {
   "cell_type": "markdown",
   "id": "208ca0e2",
   "metadata": {},
   "source": [
    "QUESTION 19"
   ]
  },
  {
   "cell_type": "code",
   "execution_count": 5,
   "id": "3995b220",
   "metadata": {},
   "outputs": [
    {
     "name": "stdout",
     "output_type": "stream",
     "text": [
      "Root Mean Squared Error (RMSE) for the training set: 95.216\n"
     ]
    }
   ],
   "source": [
    "# Predict on the training set\n",
    "y_train_pred = model.predict(X_train_scaled)\n",
    "\n",
    "# Calculate Mean Squared Error (MSE) for the training set\n",
    "mse_train = mean_squared_error(y_train, y_train_pred)\n",
    "\n",
    "# Calculate Root Mean Squared Error (RMSE) for the training set\n",
    "rmse_train = np.sqrt(mse_train)\n",
    "\n",
    "print(\"Root Mean Squared Error (RMSE) for the training set: {:.3f}\".format(rmse_train))"
   ]
  },
  {
   "cell_type": "markdown",
   "id": "18a31e55",
   "metadata": {},
   "source": [
    "QUESTION 20"
   ]
  },
  {
   "cell_type": "code",
   "execution_count": 6,
   "id": "0f30e5bf",
   "metadata": {},
   "outputs": [
    {
     "name": "stdout",
     "output_type": "stream",
     "text": [
      "Mean Absolute Error (MAE) for the test set: 53.643\n"
     ]
    }
   ],
   "source": [
    "# Predict on the test set\n",
    "y_test_pred = model.predict(X_test_scaled)\n",
    "\n",
    "# Calculate Mean Absolute Error (MAE) for the test set\n",
    "mae_test = mean_absolute_error(y_test, y_test_pred)\n",
    "\n",
    "print(\"Mean Absolute Error (MAE) for the test set: {:.3f}\".format(mae_test))"
   ]
  },
  {
   "cell_type": "markdown",
   "id": "ec4d5913",
   "metadata": {},
   "source": [
    "QUESTION 21"
   ]
  },
  {
   "cell_type": "code",
   "execution_count": 7,
   "id": "3510ffe2",
   "metadata": {},
   "outputs": [
    {
     "name": "stdout",
     "output_type": "stream",
     "text": [
      "Root Mean Squared Error (RMSE) for the test set: 93.640\n"
     ]
    }
   ],
   "source": [
    "# Predict on the test set\n",
    "y_test_pred = model.predict(X_test_scaled)\n",
    "\n",
    "# Calculate Mean Squared Error (MSE) for the test set\n",
    "mse_test = mean_squared_error(y_test, y_test_pred)\n",
    "\n",
    "# Calculate Root Mean Squared Error (RMSE) for the test set\n",
    "rmse_test = np.sqrt(mse_test)\n",
    "\n",
    "print(\"Root Mean Squared Error (RMSE) for the test set: {:.3f}\".format(rmse_test))"
   ]
  },
  {
   "cell_type": "markdown",
   "id": "ad0bb9e2",
   "metadata": {},
   "source": [
    "QUESTION 23"
   ]
  },
  {
   "cell_type": "code",
   "execution_count": 8,
   "id": "2febb07f",
   "metadata": {},
   "outputs": [
    {
     "name": "stdout",
     "output_type": "stream",
     "text": [
      "Root Mean Squared Error (RMSE) for the test set with Ridge regression: 93.709\n"
     ]
    }
   ],
   "source": [
    "from sklearn.linear_model import Ridge\n",
    "\n",
    "# Train Ridge regression model\n",
    "ridge_model = Ridge()\n",
    "ridge_model.fit(X_train_scaled, y_train)\n",
    "\n",
    "# Predict on the test set\n",
    "y_test_pred_ridge = ridge_model.predict(X_test_scaled)\n",
    "\n",
    "# Calculate RMSE for the test set with Ridge regression\n",
    "rmse_test_ridge = np.sqrt(mean_squared_error(y_test, y_test_pred_ridge))\n",
    "print(\"Root Mean Squared Error (RMSE) for the test set with Ridge regression: {:.3f}\".format(rmse_test_ridge))"
   ]
  },
  {
   "cell_type": "markdown",
   "id": "1f28f1db",
   "metadata": {},
   "source": [
    "QUESTION 24"
   ]
  },
  {
   "cell_type": "code",
   "execution_count": 9,
   "id": "94561dc7",
   "metadata": {
    "scrolled": true
   },
   "outputs": [
    {
     "name": "stdout",
     "output_type": "stream",
     "text": [
      "Number of features with non-zero feature weights: 4\n"
     ]
    }
   ],
   "source": [
    "from sklearn.linear_model import Lasso\n",
    "\n",
    "# Train Lasso regression model\n",
    "lasso_model = Lasso()\n",
    "lasso_model.fit(X_train_scaled, y_train)\n",
    "\n",
    "# Obtain feature weights\n",
    "feature_weights = lasso_model.coef_\n",
    "\n",
    "# Count the number of features with non-zero feature weights\n",
    "num_non_zero_weights = np.sum(feature_weights != 0)\n",
    "\n",
    "print(\"Number of features with non-zero feature weights:\", num_non_zero_weights)"
   ]
  },
  {
   "cell_type": "markdown",
   "id": "a61a1d9b",
   "metadata": {},
   "source": [
    "QUESTION 25"
   ]
  },
  {
   "cell_type": "code",
   "execution_count": 10,
   "id": "eeaf8aa4",
   "metadata": {},
   "outputs": [
    {
     "name": "stdout",
     "output_type": "stream",
     "text": [
      "Root Mean Squared Error (RMSE) for the test set with Lasso regression: 99.424\n"
     ]
    }
   ],
   "source": [
    "from sklearn.linear_model import Lasso\n",
    "\n",
    "# Train Lasso regression model\n",
    "lasso_model = Lasso()\n",
    "lasso_model.fit(X_train_scaled, y_train)\n",
    "\n",
    "# Predict on the test set\n",
    "y_test_pred_lasso = lasso_model.predict(X_test_scaled)\n",
    "\n",
    "# Calculate RMSE for the test set with Lasso regression\n",
    "rmse_test_lasso = np.sqrt(mean_squared_error(y_test, y_test_pred_lasso))\n",
    "\n",
    "print(\"Root Mean Squared Error (RMSE) for the test set with Lasso regression: {:.3f}\".format(rmse_test_lasso))"
   ]
  },
  {
   "cell_type": "code",
   "execution_count": null,
   "id": "ffc856ac",
   "metadata": {},
   "outputs": [],
   "source": []
  },
  {
   "cell_type": "code",
   "execution_count": null,
   "id": "d89bd5d8",
   "metadata": {},
   "outputs": [],
   "source": []
  }
 ],
 "metadata": {
  "kernelspec": {
   "display_name": "Python 3 (ipykernel)",
   "language": "python",
   "name": "python3"
  },
  "language_info": {
   "codemirror_mode": {
    "name": "ipython",
    "version": 3
   },
   "file_extension": ".py",
   "mimetype": "text/x-python",
   "name": "python",
   "nbconvert_exporter": "python",
   "pygments_lexer": "ipython3",
   "version": "3.9.12"
  }
 },
 "nbformat": 4,
 "nbformat_minor": 5
}
